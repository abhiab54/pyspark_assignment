{
 "cells": [
  {
   "cell_type": "code",
   "execution_count": 2,
   "id": "7f8a3216-2fd3-4e11-8455-611bdad09b8b",
   "metadata": {
    "tags": []
   },
   "outputs": [
    {
     "name": "stdout",
     "output_type": "stream",
     "text": [
      "Collecting delta-spark\n",
      "  Downloading delta_spark-2.3.0-py3-none-any.whl (20 kB)\n",
      "Requirement already satisfied: pyspark<3.4.0,>=3.3.0 in /usr/local/spark-3.3.1-bin-hadoop3/python (from delta-spark) (3.3.1)\n",
      "Requirement already satisfied: importlib-metadata>=1.0.0 in /opt/conda/lib/python3.10/site-packages (from delta-spark) (6.0.0)\n",
      "Requirement already satisfied: zipp>=0.5 in /opt/conda/lib/python3.10/site-packages (from importlib-metadata>=1.0.0->delta-spark) (3.13.0)\n",
      "Collecting py4j==0.10.9.5\n",
      "  Downloading py4j-0.10.9.5-py2.py3-none-any.whl (199 kB)\n",
      "\u001b[2K     \u001b[90m━━━━━━━━━━━━━━━━━━━━━━━━━━━━━━━━━━━━━━━\u001b[0m \u001b[32m199.7/199.7 kB\u001b[0m \u001b[31m2.5 MB/s\u001b[0m eta \u001b[36m0:00:00\u001b[0ma \u001b[36m0:00:01\u001b[0m\n",
      "\u001b[?25hInstalling collected packages: py4j, delta-spark\n",
      "Successfully installed delta-spark-2.3.0 py4j-0.10.9.5\n",
      "Note: you may need to restart the kernel to use updated packages.\n"
     ]
    }
   ],
   "source": [
    "pip install delta-spark"
   ]
  },
  {
   "cell_type": "code",
   "execution_count": 3,
   "id": "7adffb05-55d6-4aa9-9759-d25693e09b60",
   "metadata": {
    "tags": []
   },
   "outputs": [],
   "source": [
    "from pyspark.sql import SparkSession\n",
    "from pyspark.sql.types import StructField, StructType, StringType, IntegerType, DoubleType\n",
    "from pyspark.sql.functions import lit, current_timestamp, date_format\n",
    "import pyspark.sql.functions as F\n",
    "import os, logging\n",
    "import uuid\n",
    "from delta.pip_utils import configure_spark_with_delta_pip\n",
    "\n",
    "# Initialize SparkSession  \n",
    "spark = (\n",
    "SparkSession\n",
    ".builder\n",
    ".appName(\"LoadingEmployeeDetails\")\n",
    ".config(\"spark.sql.extensions\", \"io.delta.sql.DeltaSparkSessionExtension\")\n",
    ".config(\"spark.sql.catalog.spark_catalog\", \"org.apache.spark.sql.delta.catalog.DeltaCatalog\")\n",
    ")\n",
    "\n",
    "spark = configure_spark_with_delta_pip(spark).getOrCreate()"
   ]
  },
  {
   "cell_type": "code",
   "execution_count": 4,
   "id": "db4f28f2-e12e-441a-9cfc-434cd04e4a30",
   "metadata": {
    "tags": []
   },
   "outputs": [
    {
     "name": "stdout",
     "output_type": "stream",
     "text": [
      "+---+-------+---+-------------------+--------------------+\n",
      "| id|   name|age|          timestamp|          batch_uuid|\n",
      "+---+-------+---+-------------------+--------------------+\n",
      "|  1|  Alice| 25|2023-05-11 13:04:33|8cc4f7df353146749...|\n",
      "|  2|    Bob| 30|2023-05-11 13:04:33|8cc4f7df353146749...|\n",
      "|  3|Charlie| 35|2023-05-11 13:04:33|8cc4f7df353146749...|\n",
      "+---+-------+---+-------------------+--------------------+\n",
      "\n"
     ]
    }
   ],
   "source": [
    "df = spark.read.format(\"delta\").load(\"/output/delta\")\n",
    "df.show()"
   ]
  },
  {
   "cell_type": "code",
   "execution_count": null,
   "id": "03b60258-f056-49a0-ae1e-6ba6c68ff59f",
   "metadata": {
    "tags": []
   },
   "outputs": [],
   "source": [
    "from pyspark.sql.functions import lit, current_timestamp, row_number, date_format\n",
    "print( lit(date_format(current_timestamp(), \"yyyy-MM-dd HH:mm:ss\")))"
   ]
  },
  {
   "cell_type": "code",
   "execution_count": null,
   "id": "2b649a2d-8142-4272-bfba-c0d5ddb51ee0",
   "metadata": {
    "tags": []
   },
   "outputs": [],
   "source": [
    "spartk.stop()"
   ]
  },
  {
   "cell_type": "code",
   "execution_count": null,
   "id": "6391b517-6bd1-4391-8120-b9156bebaf53",
   "metadata": {
    "tags": []
   },
   "outputs": [],
   "source": [
    "pip install freezegun"
   ]
  },
  {
   "cell_type": "code",
   "execution_count": null,
   "id": "13876e00-96f0-4da2-a434-91316b628501",
   "metadata": {},
   "outputs": [],
   "source": []
  }
 ],
 "metadata": {
  "kernelspec": {
   "display_name": "Python 3 (ipykernel)",
   "language": "python",
   "name": "python3"
  },
  "language_info": {
   "codemirror_mode": {
    "name": "ipython",
    "version": 3
   },
   "file_extension": ".py",
   "mimetype": "text/x-python",
   "name": "python",
   "nbconvert_exporter": "python",
   "pygments_lexer": "ipython3",
   "version": "3.10.9"
  }
 },
 "nbformat": 4,
 "nbformat_minor": 5
}
